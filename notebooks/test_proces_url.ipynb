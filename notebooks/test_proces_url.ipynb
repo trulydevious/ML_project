{
 "cells": [
  {
   "cell_type": "code",
   "execution_count": 1,
   "id": "initial_id",
   "metadata": {
    "collapsed": true,
    "ExecuteTime": {
     "end_time": "2024-05-13T17:43:52.165491900Z",
     "start_time": "2024-05-13T17:43:52.152491100Z"
    }
   },
   "outputs": [],
   "source": [
    "import pandas as pd\n",
    "\n",
    "from app.functions.process_url import *"
   ]
  },
  {
   "cell_type": "code",
   "execution_count": 2,
   "outputs": [
    {
     "data": {
      "text/plain": "                      url label\n0  diaryofagameaddict.com   bad\n1        espdesign.com.au   bad\n2      iamagameaddict.com   bad\n3           kalantzis.net   bad\n4   slightlyoffcenter.net   bad",
      "text/html": "<div>\n<style scoped>\n    .dataframe tbody tr th:only-of-type {\n        vertical-align: middle;\n    }\n\n    .dataframe tbody tr th {\n        vertical-align: top;\n    }\n\n    .dataframe thead th {\n        text-align: right;\n    }\n</style>\n<table border=\"1\" class=\"dataframe\">\n  <thead>\n    <tr style=\"text-align: right;\">\n      <th></th>\n      <th>url</th>\n      <th>label</th>\n    </tr>\n  </thead>\n  <tbody>\n    <tr>\n      <th>0</th>\n      <td>diaryofagameaddict.com</td>\n      <td>bad</td>\n    </tr>\n    <tr>\n      <th>1</th>\n      <td>espdesign.com.au</td>\n      <td>bad</td>\n    </tr>\n    <tr>\n      <th>2</th>\n      <td>iamagameaddict.com</td>\n      <td>bad</td>\n    </tr>\n    <tr>\n      <th>3</th>\n      <td>kalantzis.net</td>\n      <td>bad</td>\n    </tr>\n    <tr>\n      <th>4</th>\n      <td>slightlyoffcenter.net</td>\n      <td>bad</td>\n    </tr>\n  </tbody>\n</table>\n</div>"
     },
     "execution_count": 2,
     "metadata": {},
     "output_type": "execute_result"
    }
   ],
   "source": [
    "url_data = pd.read_csv('../data/dataset_url.csv')\n",
    "url_data.columns = url_data.columns.str.lower()\n",
    "url_data.head()"
   ],
   "metadata": {
    "collapsed": false,
    "ExecuteTime": {
     "end_time": "2024-05-13T17:43:52.670162700Z",
     "start_time": "2024-05-13T17:43:52.168497800Z"
    }
   },
   "id": "70303f5bdf0c99a6"
  },
  {
   "cell_type": "code",
   "execution_count": 3,
   "outputs": [],
   "source": [
    "df_url_features = url_data['url'].apply(extract_features)\n",
    "df = pd.concat([url_data, df_url_features], axis=1)"
   ],
   "metadata": {
    "collapsed": false,
    "ExecuteTime": {
     "end_time": "2024-05-13T17:44:52.013247400Z",
     "start_time": "2024-05-13T17:43:52.674163700Z"
    }
   },
   "id": "d2ca60e76d298244"
  },
  {
   "cell_type": "code",
   "execution_count": 7,
   "outputs": [
    {
     "data": {
      "text/plain": "                                                  url label  NumDots  \\\n0                              diaryofagameaddict.com   bad        1   \n1                                    espdesign.com.au   bad        2   \n2                                  iamagameaddict.com   bad        1   \n3                                       kalantzis.net   bad        1   \n4                               slightlyoffcenter.net   bad        1   \n5                                    toddscarwash.com   bad        1   \n6                                      tubemoviez.com   bad        1   \n7                                              ipl.hk   bad        1   \n8         crackspider.us/toolbar/install.php?pack=exe   bad        2   \n9                                     pos-kupang.com/   bad        1   \n10                                         rupor.info   bad        1   \n11  svision-online.de/mgfi/administrator/component...   bad        2   \n12  officeon.ch.ma/office.js?google_ad_format=728x...   bad        3   \n13                                        sn-gzzx.com   bad        1   \n14                      sunlux.net/company/about.html   bad        2   \n15                                        outporn.com   bad        1   \n16                             timothycopus.aimoo.com   bad        2   \n17                                    xindalawyer.com   bad        1   \n18                   freeserials.spb.ru/key/68703.htm   bad        3   \n19                           deletespyware-adware.com   bad        1   \n\n    SubdomainLevel  PathLevel  UrlLength  NumDash  NumDashInHostname  \\\n0                0          0         22        0                  0   \n1                1          0         16        0                  0   \n2                0          0         18        0                  0   \n3                0          0         13        0                  0   \n4                0          0         21        0                  0   \n5                0          0         16        0                  0   \n6                0          0         14        0                  0   \n7                0          0          6        0                  0   \n8                1          2         43        0                  0   \n9                0          1         15        1                  0   \n10               0          0         10        0                  0   \n11               1          6         80        1                  0   \n12               2          1         51        0                  0   \n13               0          0         11        1                  0   \n14               1          2         29        0                  0   \n15               0          0         11        0                  0   \n16               1          0         22        0                  0   \n17               0          0         15        0                  0   \n18               2          2         32        0                  0   \n19               0          0         24        1                  0   \n\n    AtSymbol  TildeSymbol  \n0      False        False  \n1      False        False  \n2      False        False  \n3      False        False  \n4      False        False  \n5      False        False  \n6      False        False  \n7      False        False  \n8      False        False  \n9      False        False  \n10     False        False  \n11     False        False  \n12     False        False  \n13     False        False  \n14     False        False  \n15     False        False  \n16     False        False  \n17     False        False  \n18     False        False  \n19     False        False  ",
      "text/html": "<div>\n<style scoped>\n    .dataframe tbody tr th:only-of-type {\n        vertical-align: middle;\n    }\n\n    .dataframe tbody tr th {\n        vertical-align: top;\n    }\n\n    .dataframe thead th {\n        text-align: right;\n    }\n</style>\n<table border=\"1\" class=\"dataframe\">\n  <thead>\n    <tr style=\"text-align: right;\">\n      <th></th>\n      <th>url</th>\n      <th>label</th>\n      <th>NumDots</th>\n      <th>SubdomainLevel</th>\n      <th>PathLevel</th>\n      <th>UrlLength</th>\n      <th>NumDash</th>\n      <th>NumDashInHostname</th>\n      <th>AtSymbol</th>\n      <th>TildeSymbol</th>\n    </tr>\n  </thead>\n  <tbody>\n    <tr>\n      <th>0</th>\n      <td>diaryofagameaddict.com</td>\n      <td>bad</td>\n      <td>1</td>\n      <td>0</td>\n      <td>0</td>\n      <td>22</td>\n      <td>0</td>\n      <td>0</td>\n      <td>False</td>\n      <td>False</td>\n    </tr>\n    <tr>\n      <th>1</th>\n      <td>espdesign.com.au</td>\n      <td>bad</td>\n      <td>2</td>\n      <td>1</td>\n      <td>0</td>\n      <td>16</td>\n      <td>0</td>\n      <td>0</td>\n      <td>False</td>\n      <td>False</td>\n    </tr>\n    <tr>\n      <th>2</th>\n      <td>iamagameaddict.com</td>\n      <td>bad</td>\n      <td>1</td>\n      <td>0</td>\n      <td>0</td>\n      <td>18</td>\n      <td>0</td>\n      <td>0</td>\n      <td>False</td>\n      <td>False</td>\n    </tr>\n    <tr>\n      <th>3</th>\n      <td>kalantzis.net</td>\n      <td>bad</td>\n      <td>1</td>\n      <td>0</td>\n      <td>0</td>\n      <td>13</td>\n      <td>0</td>\n      <td>0</td>\n      <td>False</td>\n      <td>False</td>\n    </tr>\n    <tr>\n      <th>4</th>\n      <td>slightlyoffcenter.net</td>\n      <td>bad</td>\n      <td>1</td>\n      <td>0</td>\n      <td>0</td>\n      <td>21</td>\n      <td>0</td>\n      <td>0</td>\n      <td>False</td>\n      <td>False</td>\n    </tr>\n    <tr>\n      <th>5</th>\n      <td>toddscarwash.com</td>\n      <td>bad</td>\n      <td>1</td>\n      <td>0</td>\n      <td>0</td>\n      <td>16</td>\n      <td>0</td>\n      <td>0</td>\n      <td>False</td>\n      <td>False</td>\n    </tr>\n    <tr>\n      <th>6</th>\n      <td>tubemoviez.com</td>\n      <td>bad</td>\n      <td>1</td>\n      <td>0</td>\n      <td>0</td>\n      <td>14</td>\n      <td>0</td>\n      <td>0</td>\n      <td>False</td>\n      <td>False</td>\n    </tr>\n    <tr>\n      <th>7</th>\n      <td>ipl.hk</td>\n      <td>bad</td>\n      <td>1</td>\n      <td>0</td>\n      <td>0</td>\n      <td>6</td>\n      <td>0</td>\n      <td>0</td>\n      <td>False</td>\n      <td>False</td>\n    </tr>\n    <tr>\n      <th>8</th>\n      <td>crackspider.us/toolbar/install.php?pack=exe</td>\n      <td>bad</td>\n      <td>2</td>\n      <td>1</td>\n      <td>2</td>\n      <td>43</td>\n      <td>0</td>\n      <td>0</td>\n      <td>False</td>\n      <td>False</td>\n    </tr>\n    <tr>\n      <th>9</th>\n      <td>pos-kupang.com/</td>\n      <td>bad</td>\n      <td>1</td>\n      <td>0</td>\n      <td>1</td>\n      <td>15</td>\n      <td>1</td>\n      <td>0</td>\n      <td>False</td>\n      <td>False</td>\n    </tr>\n    <tr>\n      <th>10</th>\n      <td>rupor.info</td>\n      <td>bad</td>\n      <td>1</td>\n      <td>0</td>\n      <td>0</td>\n      <td>10</td>\n      <td>0</td>\n      <td>0</td>\n      <td>False</td>\n      <td>False</td>\n    </tr>\n    <tr>\n      <th>11</th>\n      <td>svision-online.de/mgfi/administrator/component...</td>\n      <td>bad</td>\n      <td>2</td>\n      <td>1</td>\n      <td>6</td>\n      <td>80</td>\n      <td>1</td>\n      <td>0</td>\n      <td>False</td>\n      <td>False</td>\n    </tr>\n    <tr>\n      <th>12</th>\n      <td>officeon.ch.ma/office.js?google_ad_format=728x...</td>\n      <td>bad</td>\n      <td>3</td>\n      <td>2</td>\n      <td>1</td>\n      <td>51</td>\n      <td>0</td>\n      <td>0</td>\n      <td>False</td>\n      <td>False</td>\n    </tr>\n    <tr>\n      <th>13</th>\n      <td>sn-gzzx.com</td>\n      <td>bad</td>\n      <td>1</td>\n      <td>0</td>\n      <td>0</td>\n      <td>11</td>\n      <td>1</td>\n      <td>0</td>\n      <td>False</td>\n      <td>False</td>\n    </tr>\n    <tr>\n      <th>14</th>\n      <td>sunlux.net/company/about.html</td>\n      <td>bad</td>\n      <td>2</td>\n      <td>1</td>\n      <td>2</td>\n      <td>29</td>\n      <td>0</td>\n      <td>0</td>\n      <td>False</td>\n      <td>False</td>\n    </tr>\n    <tr>\n      <th>15</th>\n      <td>outporn.com</td>\n      <td>bad</td>\n      <td>1</td>\n      <td>0</td>\n      <td>0</td>\n      <td>11</td>\n      <td>0</td>\n      <td>0</td>\n      <td>False</td>\n      <td>False</td>\n    </tr>\n    <tr>\n      <th>16</th>\n      <td>timothycopus.aimoo.com</td>\n      <td>bad</td>\n      <td>2</td>\n      <td>1</td>\n      <td>0</td>\n      <td>22</td>\n      <td>0</td>\n      <td>0</td>\n      <td>False</td>\n      <td>False</td>\n    </tr>\n    <tr>\n      <th>17</th>\n      <td>xindalawyer.com</td>\n      <td>bad</td>\n      <td>1</td>\n      <td>0</td>\n      <td>0</td>\n      <td>15</td>\n      <td>0</td>\n      <td>0</td>\n      <td>False</td>\n      <td>False</td>\n    </tr>\n    <tr>\n      <th>18</th>\n      <td>freeserials.spb.ru/key/68703.htm</td>\n      <td>bad</td>\n      <td>3</td>\n      <td>2</td>\n      <td>2</td>\n      <td>32</td>\n      <td>0</td>\n      <td>0</td>\n      <td>False</td>\n      <td>False</td>\n    </tr>\n    <tr>\n      <th>19</th>\n      <td>deletespyware-adware.com</td>\n      <td>bad</td>\n      <td>1</td>\n      <td>0</td>\n      <td>0</td>\n      <td>24</td>\n      <td>1</td>\n      <td>0</td>\n      <td>False</td>\n      <td>False</td>\n    </tr>\n  </tbody>\n</table>\n</div>"
     },
     "execution_count": 7,
     "metadata": {},
     "output_type": "execute_result"
    }
   ],
   "source": [
    "df.head()"
   ],
   "metadata": {
    "collapsed": false,
    "ExecuteTime": {
     "end_time": "2024-05-13T17:45:23.429735800Z",
     "start_time": "2024-05-13T17:45:23.388551400Z"
    }
   },
   "id": "ea57c8839454ff6a"
  },
  {
   "cell_type": "code",
   "execution_count": 5,
   "outputs": [
    {
     "name": "stdout",
     "output_type": "stream",
     "text": [
      "<class 'pandas.core.frame.DataFrame'>\n",
      "RangeIndex: 420464 entries, 0 to 420463\n",
      "Data columns (total 10 columns):\n",
      " #   Column             Non-Null Count   Dtype \n",
      "---  ------             --------------   ----- \n",
      " 0   url                420464 non-null  object\n",
      " 1   label              420464 non-null  object\n",
      " 2   NumDots            420464 non-null  int64 \n",
      " 3   SubdomainLevel     420464 non-null  int64 \n",
      " 4   PathLevel          420464 non-null  int64 \n",
      " 5   UrlLength          420464 non-null  int64 \n",
      " 6   NumDash            420464 non-null  int64 \n",
      " 7   NumDashInHostname  420464 non-null  int64 \n",
      " 8   AtSymbol           420464 non-null  bool  \n",
      " 9   TildeSymbol        420464 non-null  bool  \n",
      "dtypes: bool(2), int64(6), object(2)\n",
      "memory usage: 26.5+ MB\n"
     ]
    }
   ],
   "source": [
    "df.info()"
   ],
   "metadata": {
    "collapsed": false,
    "ExecuteTime": {
     "end_time": "2024-05-13T17:44:52.851404900Z",
     "start_time": "2024-05-13T17:44:52.008345500Z"
    }
   },
   "id": "37ed3bc0fca67904"
  },
  {
   "cell_type": "code",
   "execution_count": 6,
   "outputs": [
    {
     "data": {
      "text/plain": "             NumDots  SubdomainLevel      PathLevel      UrlLength  \\\ncount  420464.000000   420464.000000  420464.000000  420464.000000   \nmean        1.782614        0.782614       2.393744      48.342005   \nstd         1.098021        1.098021       1.491567      35.021279   \nmin         0.000000       -1.000000       0.000000       1.000000   \n25%         1.000000        0.000000       1.000000      29.000000   \n50%         2.000000        1.000000       2.000000      41.000000   \n75%         2.000000        1.000000       3.000000      58.000000   \nmax        32.000000       31.000000      35.000000    2307.000000   \n\n             NumDash  NumDashInHostname  \ncount  420464.000000      420464.000000  \nmean        1.298054           0.000078  \nstd         2.632559           0.011643  \nmin         0.000000           0.000000  \n25%         0.000000           0.000000  \n50%         0.000000           0.000000  \n75%         1.000000           0.000000  \nmax        42.000000           2.000000  ",
      "text/html": "<div>\n<style scoped>\n    .dataframe tbody tr th:only-of-type {\n        vertical-align: middle;\n    }\n\n    .dataframe tbody tr th {\n        vertical-align: top;\n    }\n\n    .dataframe thead th {\n        text-align: right;\n    }\n</style>\n<table border=\"1\" class=\"dataframe\">\n  <thead>\n    <tr style=\"text-align: right;\">\n      <th></th>\n      <th>NumDots</th>\n      <th>SubdomainLevel</th>\n      <th>PathLevel</th>\n      <th>UrlLength</th>\n      <th>NumDash</th>\n      <th>NumDashInHostname</th>\n    </tr>\n  </thead>\n  <tbody>\n    <tr>\n      <th>count</th>\n      <td>420464.000000</td>\n      <td>420464.000000</td>\n      <td>420464.000000</td>\n      <td>420464.000000</td>\n      <td>420464.000000</td>\n      <td>420464.000000</td>\n    </tr>\n    <tr>\n      <th>mean</th>\n      <td>1.782614</td>\n      <td>0.782614</td>\n      <td>2.393744</td>\n      <td>48.342005</td>\n      <td>1.298054</td>\n      <td>0.000078</td>\n    </tr>\n    <tr>\n      <th>std</th>\n      <td>1.098021</td>\n      <td>1.098021</td>\n      <td>1.491567</td>\n      <td>35.021279</td>\n      <td>2.632559</td>\n      <td>0.011643</td>\n    </tr>\n    <tr>\n      <th>min</th>\n      <td>0.000000</td>\n      <td>-1.000000</td>\n      <td>0.000000</td>\n      <td>1.000000</td>\n      <td>0.000000</td>\n      <td>0.000000</td>\n    </tr>\n    <tr>\n      <th>25%</th>\n      <td>1.000000</td>\n      <td>0.000000</td>\n      <td>1.000000</td>\n      <td>29.000000</td>\n      <td>0.000000</td>\n      <td>0.000000</td>\n    </tr>\n    <tr>\n      <th>50%</th>\n      <td>2.000000</td>\n      <td>1.000000</td>\n      <td>2.000000</td>\n      <td>41.000000</td>\n      <td>0.000000</td>\n      <td>0.000000</td>\n    </tr>\n    <tr>\n      <th>75%</th>\n      <td>2.000000</td>\n      <td>1.000000</td>\n      <td>3.000000</td>\n      <td>58.000000</td>\n      <td>1.000000</td>\n      <td>0.000000</td>\n    </tr>\n    <tr>\n      <th>max</th>\n      <td>32.000000</td>\n      <td>31.000000</td>\n      <td>35.000000</td>\n      <td>2307.000000</td>\n      <td>42.000000</td>\n      <td>2.000000</td>\n    </tr>\n  </tbody>\n</table>\n</div>"
     },
     "execution_count": 6,
     "metadata": {},
     "output_type": "execute_result"
    }
   ],
   "source": [
    "df.describe()"
   ],
   "metadata": {
    "collapsed": false,
    "ExecuteTime": {
     "end_time": "2024-05-13T17:44:52.853411600Z",
     "start_time": "2024-05-13T17:44:52.105673Z"
    }
   },
   "id": "ed3cba97402f0c49"
  },
  {
   "cell_type": "code",
   "execution_count": 6,
   "outputs": [],
   "source": [],
   "metadata": {
    "collapsed": false,
    "ExecuteTime": {
     "end_time": "2024-05-13T17:44:52.853411600Z",
     "start_time": "2024-05-13T17:44:52.239102200Z"
    }
   },
   "id": "1f4a93b01534e11"
  }
 ],
 "metadata": {
  "kernelspec": {
   "display_name": "Python 3",
   "language": "python",
   "name": "python3"
  },
  "language_info": {
   "codemirror_mode": {
    "name": "ipython",
    "version": 2
   },
   "file_extension": ".py",
   "mimetype": "text/x-python",
   "name": "python",
   "nbconvert_exporter": "python",
   "pygments_lexer": "ipython2",
   "version": "2.7.6"
  }
 },
 "nbformat": 4,
 "nbformat_minor": 5
}
